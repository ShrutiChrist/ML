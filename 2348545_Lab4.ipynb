{
  "nbformat": 4,
  "nbformat_minor": 0,
  "metadata": {
    "colab": {
      "provenance": [],
      "include_colab_link": true
    },
    "kernelspec": {
      "name": "python3",
      "display_name": "Python 3"
    },
    "language_info": {
      "name": "python"
    }
  },
  "cells": [
    {
      "cell_type": "markdown",
      "metadata": {
        "id": "view-in-github",
        "colab_type": "text"
      },
      "source": [
        "<a href=\"https://colab.research.google.com/github/sahay-46/shruti_ranjan/blob/main/2348545_Lab4.ipynb\" target=\"_parent\"><img src=\"https://colab.research.google.com/assets/colab-badge.svg\" alt=\"Open In Colab\"/></a>"
      ]
    },
    {
      "cell_type": "code",
      "execution_count": null,
      "metadata": {
        "id": "ymKnpLQrnqEI"
      },
      "outputs": [],
      "source": [
        "import pandas as pd\n",
        "import numpy as np\n",
        "import seaborn as sns\n",
        "import matplotlib as plt"
      ]
    },
    {
      "cell_type": "code",
      "source": [
        "#Load the dataset\n",
        "data = pd.read_csv('/content/Groceries_dataset.csv')\n",
        "data.head()"
      ],
      "metadata": {
        "colab": {
          "base_uri": "https://localhost:8080/",
          "height": 206
        },
        "id": "2OL-Eg98oG3c",
        "outputId": "839311e1-df60-468d-cfba-6e4994db6b57"
      },
      "execution_count": null,
      "outputs": [
        {
          "output_type": "execute_result",
          "data": {
            "text/plain": [
              "   Member_number        Date   itemDescription\n",
              "0           1808  21-07-2015    tropical fruit\n",
              "1           2552  05-01-2015        whole milk\n",
              "2           2300  19-09-2015         pip fruit\n",
              "3           1187  12-12-2015  other vegetables\n",
              "4           3037  01-02-2015        whole milk"
            ],
            "text/html": [
              "\n",
              "  <div id=\"df-ce4e0161-2cb3-42ea-b0f2-7078347e944d\" class=\"colab-df-container\">\n",
              "    <div>\n",
              "<style scoped>\n",
              "    .dataframe tbody tr th:only-of-type {\n",
              "        vertical-align: middle;\n",
              "    }\n",
              "\n",
              "    .dataframe tbody tr th {\n",
              "        vertical-align: top;\n",
              "    }\n",
              "\n",
              "    .dataframe thead th {\n",
              "        text-align: right;\n",
              "    }\n",
              "</style>\n",
              "<table border=\"1\" class=\"dataframe\">\n",
              "  <thead>\n",
              "    <tr style=\"text-align: right;\">\n",
              "      <th></th>\n",
              "      <th>Member_number</th>\n",
              "      <th>Date</th>\n",
              "      <th>itemDescription</th>\n",
              "    </tr>\n",
              "  </thead>\n",
              "  <tbody>\n",
              "    <tr>\n",
              "      <th>0</th>\n",
              "      <td>1808</td>\n",
              "      <td>21-07-2015</td>\n",
              "      <td>tropical fruit</td>\n",
              "    </tr>\n",
              "    <tr>\n",
              "      <th>1</th>\n",
              "      <td>2552</td>\n",
              "      <td>05-01-2015</td>\n",
              "      <td>whole milk</td>\n",
              "    </tr>\n",
              "    <tr>\n",
              "      <th>2</th>\n",
              "      <td>2300</td>\n",
              "      <td>19-09-2015</td>\n",
              "      <td>pip fruit</td>\n",
              "    </tr>\n",
              "    <tr>\n",
              "      <th>3</th>\n",
              "      <td>1187</td>\n",
              "      <td>12-12-2015</td>\n",
              "      <td>other vegetables</td>\n",
              "    </tr>\n",
              "    <tr>\n",
              "      <th>4</th>\n",
              "      <td>3037</td>\n",
              "      <td>01-02-2015</td>\n",
              "      <td>whole milk</td>\n",
              "    </tr>\n",
              "  </tbody>\n",
              "</table>\n",
              "</div>\n",
              "    <div class=\"colab-df-buttons\">\n",
              "\n",
              "  <div class=\"colab-df-container\">\n",
              "    <button class=\"colab-df-convert\" onclick=\"convertToInteractive('df-ce4e0161-2cb3-42ea-b0f2-7078347e944d')\"\n",
              "            title=\"Convert this dataframe to an interactive table.\"\n",
              "            style=\"display:none;\">\n",
              "\n",
              "  <svg xmlns=\"http://www.w3.org/2000/svg\" height=\"24px\" viewBox=\"0 -960 960 960\">\n",
              "    <path d=\"M120-120v-720h720v720H120Zm60-500h600v-160H180v160Zm220 220h160v-160H400v160Zm0 220h160v-160H400v160ZM180-400h160v-160H180v160Zm440 0h160v-160H620v160ZM180-180h160v-160H180v160Zm440 0h160v-160H620v160Z\"/>\n",
              "  </svg>\n",
              "    </button>\n",
              "\n",
              "  <style>\n",
              "    .colab-df-container {\n",
              "      display:flex;\n",
              "      gap: 12px;\n",
              "    }\n",
              "\n",
              "    .colab-df-convert {\n",
              "      background-color: #E8F0FE;\n",
              "      border: none;\n",
              "      border-radius: 50%;\n",
              "      cursor: pointer;\n",
              "      display: none;\n",
              "      fill: #1967D2;\n",
              "      height: 32px;\n",
              "      padding: 0 0 0 0;\n",
              "      width: 32px;\n",
              "    }\n",
              "\n",
              "    .colab-df-convert:hover {\n",
              "      background-color: #E2EBFA;\n",
              "      box-shadow: 0px 1px 2px rgba(60, 64, 67, 0.3), 0px 1px 3px 1px rgba(60, 64, 67, 0.15);\n",
              "      fill: #174EA6;\n",
              "    }\n",
              "\n",
              "    .colab-df-buttons div {\n",
              "      margin-bottom: 4px;\n",
              "    }\n",
              "\n",
              "    [theme=dark] .colab-df-convert {\n",
              "      background-color: #3B4455;\n",
              "      fill: #D2E3FC;\n",
              "    }\n",
              "\n",
              "    [theme=dark] .colab-df-convert:hover {\n",
              "      background-color: #434B5C;\n",
              "      box-shadow: 0px 1px 3px 1px rgba(0, 0, 0, 0.15);\n",
              "      filter: drop-shadow(0px 1px 2px rgba(0, 0, 0, 0.3));\n",
              "      fill: #FFFFFF;\n",
              "    }\n",
              "  </style>\n",
              "\n",
              "    <script>\n",
              "      const buttonEl =\n",
              "        document.querySelector('#df-ce4e0161-2cb3-42ea-b0f2-7078347e944d button.colab-df-convert');\n",
              "      buttonEl.style.display =\n",
              "        google.colab.kernel.accessAllowed ? 'block' : 'none';\n",
              "\n",
              "      async function convertToInteractive(key) {\n",
              "        const element = document.querySelector('#df-ce4e0161-2cb3-42ea-b0f2-7078347e944d');\n",
              "        const dataTable =\n",
              "          await google.colab.kernel.invokeFunction('convertToInteractive',\n",
              "                                                    [key], {});\n",
              "        if (!dataTable) return;\n",
              "\n",
              "        const docLinkHtml = 'Like what you see? Visit the ' +\n",
              "          '<a target=\"_blank\" href=https://colab.research.google.com/notebooks/data_table.ipynb>data table notebook</a>'\n",
              "          + ' to learn more about interactive tables.';\n",
              "        element.innerHTML = '';\n",
              "        dataTable['output_type'] = 'display_data';\n",
              "        await google.colab.output.renderOutput(dataTable, element);\n",
              "        const docLink = document.createElement('div');\n",
              "        docLink.innerHTML = docLinkHtml;\n",
              "        element.appendChild(docLink);\n",
              "      }\n",
              "    </script>\n",
              "  </div>\n",
              "\n",
              "\n",
              "<div id=\"df-75a426c6-671e-49f7-b666-aea6b4858c81\">\n",
              "  <button class=\"colab-df-quickchart\" onclick=\"quickchart('df-75a426c6-671e-49f7-b666-aea6b4858c81')\"\n",
              "            title=\"Suggest charts.\"\n",
              "            style=\"display:none;\">\n",
              "\n",
              "<svg xmlns=\"http://www.w3.org/2000/svg\" height=\"24px\"viewBox=\"0 0 24 24\"\n",
              "     width=\"24px\">\n",
              "    <g>\n",
              "        <path d=\"M19 3H5c-1.1 0-2 .9-2 2v14c0 1.1.9 2 2 2h14c1.1 0 2-.9 2-2V5c0-1.1-.9-2-2-2zM9 17H7v-7h2v7zm4 0h-2V7h2v10zm4 0h-2v-4h2v4z\"/>\n",
              "    </g>\n",
              "</svg>\n",
              "  </button>\n",
              "\n",
              "<style>\n",
              "  .colab-df-quickchart {\n",
              "    background-color: #E8F0FE;\n",
              "    border: none;\n",
              "    border-radius: 50%;\n",
              "    cursor: pointer;\n",
              "    display: none;\n",
              "    fill: #1967D2;\n",
              "    height: 32px;\n",
              "    padding: 0 0 0 0;\n",
              "    width: 32px;\n",
              "  }\n",
              "\n",
              "  .colab-df-quickchart:hover {\n",
              "    background-color: #E2EBFA;\n",
              "    box-shadow: 0px 1px 2px rgba(60, 64, 67, 0.3), 0px 1px 3px 1px rgba(60, 64, 67, 0.15);\n",
              "    fill: #174EA6;\n",
              "  }\n",
              "\n",
              "  [theme=dark] .colab-df-quickchart {\n",
              "    background-color: #3B4455;\n",
              "    fill: #D2E3FC;\n",
              "  }\n",
              "\n",
              "  [theme=dark] .colab-df-quickchart:hover {\n",
              "    background-color: #434B5C;\n",
              "    box-shadow: 0px 1px 3px 1px rgba(0, 0, 0, 0.15);\n",
              "    filter: drop-shadow(0px 1px 2px rgba(0, 0, 0, 0.3));\n",
              "    fill: #FFFFFF;\n",
              "  }\n",
              "</style>\n",
              "\n",
              "  <script>\n",
              "    async function quickchart(key) {\n",
              "      const charts = await google.colab.kernel.invokeFunction(\n",
              "          'suggestCharts', [key], {});\n",
              "    }\n",
              "    (() => {\n",
              "      let quickchartButtonEl =\n",
              "        document.querySelector('#df-75a426c6-671e-49f7-b666-aea6b4858c81 button');\n",
              "      quickchartButtonEl.style.display =\n",
              "        google.colab.kernel.accessAllowed ? 'block' : 'none';\n",
              "    })();\n",
              "  </script>\n",
              "</div>\n",
              "    </div>\n",
              "  </div>\n"
            ]
          },
          "metadata": {},
          "execution_count": 3
        }
      ]
    },
    {
      "cell_type": "code",
      "source": [
        "# To check for missing values\n",
        "data.isnull().sum()"
      ],
      "metadata": {
        "colab": {
          "base_uri": "https://localhost:8080/"
        },
        "id": "80AlBRADprvw",
        "outputId": "cf86f6df-54bb-410a-9f3d-d53daf1c2705"
      },
      "execution_count": null,
      "outputs": [
        {
          "output_type": "execute_result",
          "data": {
            "text/plain": [
              "Member_number      0\n",
              "Date               0\n",
              "itemDescription    0\n",
              "dtype: int64"
            ]
          },
          "metadata": {},
          "execution_count": 4
        }
      ]
    },
    {
      "cell_type": "code",
      "source": [
        "# Preprocess the dataset\n",
        "# Convert Date column to datetime\n",
        "data['Date'] = pd.to_datetime(data['Date'])\n",
        "# Remove whitespaces\n",
        "data['itemDescription'] = data['itemDescription'].str.strip()"
      ],
      "metadata": {
        "id": "jwlSBHgMqUri",
        "colab": {
          "base_uri": "https://localhost:8080/"
        },
        "outputId": "eef76941-a056-4bfc-e4ec-b94b4efd95b2"
      },
      "execution_count": null,
      "outputs": [
        {
          "output_type": "stream",
          "name": "stderr",
          "text": [
            "<ipython-input-5-5138aa175ccd>:2: UserWarning: Parsing dates in DD/MM/YYYY format when dayfirst=False (the default) was specified. This may lead to inconsistently parsed dates! Specify a format to ensure consistent parsing.\n",
            "  data['Date'] = pd.to_datetime(data['Date'])  # Convert Date column to datetime\n"
          ]
        }
      ]
    },
    {
      "cell_type": "code",
      "source": [
        "# Group items by Member_number and Date, and aggregate itemDescription as a list\n",
        "grouped_data = data.groupby(['Member_number', 'Date'])['itemDescription'].apply(list).reset_index()\n"
      ],
      "metadata": {
        "id": "LKKp3Ft7wsjb"
      },
      "execution_count": null,
      "outputs": []
    },
    {
      "cell_type": "code",
      "source": [
        "# Convert the grouped data into a list of transactions\n",
        "transactions = grouped_data['itemDescription'].tolist()"
      ],
      "metadata": {
        "id": "_rckChlxw4dv"
      },
      "execution_count": null,
      "outputs": []
    },
    {
      "cell_type": "code",
      "source": [
        "# Print the first few transactions for verification\n",
        "for i, transaction in enumerate(transactions[:5], start=1):\n",
        "    print(f\"Transaction {i}: {transaction}\")"
      ],
      "metadata": {
        "colab": {
          "base_uri": "https://localhost:8080/"
        },
        "id": "cm7mrk2mw8P1",
        "outputId": "f8f5d4bd-3305-4722-f27f-2f9aeb8dd190"
      },
      "execution_count": null,
      "outputs": [
        {
          "output_type": "stream",
          "name": "stdout",
          "text": [
            "Transaction 1: ['whole milk', 'pastry', 'salty snack']\n",
            "Transaction 2: ['sausage', 'whole milk', 'semi-finished bread', 'yogurt']\n",
            "Transaction 3: ['soda', 'pickled vegetables']\n",
            "Transaction 4: ['canned beer', 'misc. beverages']\n",
            "Transaction 5: ['sausage', 'hygiene articles']\n"
          ]
        }
      ]
    },
    {
      "cell_type": "code",
      "source": [
        "import threading\n",
        "import time\n",
        "import matplotlib.pyplot as plt\n",
        "from itertools import chain, combinations\n",
        "\n",
        "# Placeholder for FP-growth algorithm implementation\n",
        "def your_fp_growth_algorithm(transactions, min_support):\n",
        "    # Implement your FP-growth algorithm here\n",
        "    frequent_itemsets = {}  # Replace with your actual implementation\n",
        "    return frequent_itemsets\n",
        "\n",
        "# Placeholder for Apriori algorithm implementation\n",
        "def your_apriori_algorithm(transactions, min_support):\n",
        "    # Implement your Apriori algorithm here\n",
        "    frequent_itemsets = {}  # Replace with your actual implementation\n",
        "    return frequent_itemsets\n",
        "\n",
        "# Placeholder for generating association rules\n",
        "def generate_association_rules(frequent_itemsets, min_confidence):\n",
        "    association_rules = []\n",
        "    # Implement generating association rules here\n",
        "    return association_rules\n",
        "\n",
        "def main():\n",
        "    transactions = [\n",
        "        [\"tropical fruit\"],\n",
        "        [\"whole milk\"],\n",
        "        [\"pip fruit\"],\n",
        "        [\"other vegetables\"],\n",
        "        [\"whole milk\"]\n",
        "        # ... more transactions\n",
        "    ]\n",
        "\n",
        "    min_support = 2  # Set your desired minimum support value\n",
        "\n",
        "    result_dict = {}  # Container to store algorithm execution times\n",
        "\n",
        "    # Create threads for FP-growth and Apriori\n",
        "    fpgrowth_thread = threading.Thread(target=run_fpgrowth, args=(transactions, min_support, result_dict))\n",
        "    apriori_thread = threading.Thread(target=run_apriori, args=(transactions, min_support, result_dict))\n",
        "\n",
        "    # Start the threads\n",
        "    fpgrowth_thread.start()\n",
        "    apriori_thread.start()\n",
        "\n",
        "    # Wait for the threads to finish\n",
        "    fpgrowth_thread.join()\n",
        "    apriori_thread.join()\n",
        "\n",
        "    # Get execution times from the result container\n",
        "    fpgrowth_execution_time = result_dict.get('fpgrowth_time', 0)\n",
        "    apriori_execution_time = result_dict.get('apriori_time', 0)\n",
        "\n",
        "    print(f\"FP-growth execution time: {fpgrowth_execution_time:.4f} seconds\")\n",
        "    print(f\"Apriori execution time: {apriori_execution_time:.4f} seconds\")\n",
        "\n",
        "    # Data visualization\n",
        "    algorithms = ['FP-growth', 'Apriori']\n",
        "    execution_times = [fpgrowth_execution_time, apriori_execution_time]\n",
        "\n",
        "    plt.bar(algorithms, execution_times)\n",
        "    plt.ylabel('Execution Time (seconds)')\n",
        "    plt.title('Algorithm Execution Time Comparison')\n",
        "    plt.show()\n",
        "\n",
        "    # Recommendation\n",
        "    if fpgrowth_execution_time < apriori_execution_time:\n",
        "        print(\"Based on execution time comparison, FP-growth is recommended for market basket analysis.\")\n",
        "    elif apriori_execution_time < fpgrowth_execution_time:\n",
        "        print(\"Based on execution time comparison, Apriori is recommended for market basket analysis.\")\n",
        "    else:\n",
        "        print(\"Both algorithms have similar execution times. You may consider other factors for your decision.\")\n",
        "\n",
        "    # Association rule mining\n",
        "    min_confidence = 0.5  # Set your desired minimum confidence value\n",
        "\n",
        "    fpgrowth_frequent_itemsets = your_fp_growth_algorithm(transactions, min_support)\n",
        "    apriori_frequent_itemsets = your_apriori_algorithm(transactions, min_support)\n",
        "\n",
        "    fpgrowth_association_rules = generate_association_rules(fpgrowth_frequent_itemsets, min_confidence)\n",
        "    apriori_association_rules = generate_association_rules(apriori_frequent_itemsets, min_confidence)\n",
        "\n",
        "    # Display association rules\n",
        "    print(\"\\nAssociation Rules from FP-growth:\")\n",
        "    for antecedent, consequent, confidence in fpgrowth_association_rules:\n",
        "        print(f\"{antecedent} => {consequent} (Confidence: {confidence:.4f})\")\n",
        "\n",
        "    print(\"\\nAssociation Rules from Apriori:\")\n",
        "    for antecedent, consequent, confidence in apriori_association_rules:\n",
        "        print(f\"{antecedent} => {consequent} (Confidence: {confidence:.4f})\")\n",
        "\n",
        "if __name__ == '__main__':\n",
        "    main()\n"
      ],
      "metadata": {
        "colab": {
          "base_uri": "https://localhost:8080/",
          "height": 573
        },
        "id": "3qYyXx6W7LkU",
        "outputId": "bd36ed3b-db01-4d90-afcc-ed6ddede896b"
      },
      "execution_count": null,
      "outputs": [
        {
          "output_type": "stream",
          "name": "stdout",
          "text": [
            "FP-growth execution time: 0.0000 seconds\n",
            "Apriori execution time: 0.0000 seconds\n"
          ]
        },
        {
          "output_type": "display_data",
          "data": {
            "text/plain": [
              "<Figure size 640x480 with 1 Axes>"
            ],
            "image/png": "[encoded data removed]"
          },
          "metadata": {}
        },
        {
          "output_type": "stream",
          "name": "stdout",
          "text": [
            "Based on execution time comparison, FP-growth is recommended for market basket analysis.\n",
            "\n",
            "Association Rules from FP-growth:\n",
            "\n",
            "Association Rules from Apriori:\n"
          ]
        }
      ]
    }
  ]
}